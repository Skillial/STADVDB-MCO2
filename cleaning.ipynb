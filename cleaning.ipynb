{
 "cells": [
  {
   "cell_type": "code",
   "execution_count": 1,
   "metadata": {},
   "outputs": [],
   "source": [
    "import pandas as pd\n",
    "import mysql.connector\n",
    "from sqlalchemy import create_engine"
   ]
  },
  {
   "cell_type": "code",
   "execution_count": 2,
   "metadata": {},
   "outputs": [],
   "source": [
    "# read function\n",
    "def readCsv(name):\n",
    "    try:\n",
    "        return pd.read_csv(name)\n",
    "    except UnicodeDecodeError:\n",
    "        try:\n",
    "            return pd.read_csv(name, encoding='latin1')\n",
    "        except UnicodeDecodeError:\n",
    "            return pd.read_csv(name, encoding='ISO-8859-1')"
   ]
  },
  {
   "cell_type": "code",
   "execution_count": 3,
   "metadata": {},
   "outputs": [],
   "source": [
    "apptsDf = readCsv('csv/appointments.csv')\n",
    "apptsDf.drop_duplicates(subset='apptid', inplace=True)"
   ]
  },
  {
   "cell_type": "code",
   "execution_count": 4,
   "metadata": {},
   "outputs": [],
   "source": [
    "clinicsDf = readCsv('csv/clinics.csv')\n",
    "clinicsDf.drop_duplicates(subset='clinicid', inplace=True)"
   ]
  },
  {
   "cell_type": "code",
   "execution_count": 5,
   "metadata": {},
   "outputs": [],
   "source": [
    "doctorsDf = readCsv('csv/doctors.csv')\n",
    "doctorsDf.drop_duplicates(subset='doctorid', inplace=True)"
   ]
  },
  {
   "cell_type": "code",
   "execution_count": 6,
   "metadata": {},
   "outputs": [
    {
     "name": "stderr",
     "output_type": "stream",
     "text": [
      "C:\\Users\\user\\AppData\\Local\\Temp\\ipykernel_8620\\3144380163.py:4: DtypeWarning: Columns (1) have mixed types. Specify dtype option on import or set low_memory=False.\n",
      "  return pd.read_csv(name)\n"
     ]
    }
   ],
   "source": [
    "pxDf = readCsv('csv/px.csv')\n",
    "pxDf.drop_duplicates(subset='pxid', inplace=True)"
   ]
  },
  {
   "cell_type": "code",
   "execution_count": 7,
   "metadata": {},
   "outputs": [],
   "source": [
    "apptsDf = apptsDf[apptsDf[\"clinicid\"].isin(clinicsDf[\"clinicid\"])]\n",
    "apptsDf = apptsDf[apptsDf[\"doctorid\"].isin(doctorsDf[\"doctorid\"])]\n",
    "apptsDf = apptsDf[apptsDf[\"pxid\"].isin(pxDf[\"pxid\"])]\n"
   ]
  },
  {
   "cell_type": "code",
   "execution_count": 8,
   "metadata": {},
   "outputs": [],
   "source": [
    "clinicsDf = clinicsDf[clinicsDf[\"clinicid\"].isin(apptsDf[\"clinicid\"])]\n",
    "doctorsDf = doctorsDf[doctorsDf[\"doctorid\"].isin(apptsDf[\"doctorid\"])]\n",
    "pxDf = pxDf[pxDf[\"pxid\"].isin(apptsDf[\"pxid\"])]\n"
   ]
  },
  {
   "cell_type": "code",
   "execution_count": null,
   "metadata": {},
   "outputs": [],
   "source": [
    "pxDf = pxDf.rename(columns={'age': 'pxage', 'gender': 'pxgender'})\n",
    "doctorsDf = doctorsDf.rename(columns={'age': 'doctorage'})"
   ]
  },
  {
   "cell_type": "code",
   "execution_count": null,
   "metadata": {},
   "outputs": [],
   "source": [
    "combinedDf = apptsDf.merge(clinicsDf, on='clinicid')\n",
    "combinedDf = combinedDf.merge(doctorsDf, on='doctorid')\n",
    "combinedDf = combinedDf.merge(pxDf, on='pxid')"
   ]
  },
  {
   "cell_type": "code",
   "execution_count": null,
   "metadata": {},
   "outputs": [],
   "source": [
    "combinedDf.drop(['pxid', 'clinicid', 'doctorid'], axis=1, inplace=True)\n"
   ]
  },
  {
   "cell_type": "code",
   "execution_count": null,
   "metadata": {},
   "outputs": [],
   "source": [
    "Luzon = 'National Capital Region (NCR)', 'CALABARZON (IV-A)', 'Ilocos Region (I)', 'Bicol Region (V)','Central Luzon (III)'\n",
    "luzonDf = combinedDf[combinedDf['RegionName'].isin(Luzon)]\n",
    "visMinDf = combinedDf[~combinedDf['RegionName'].isin(Luzon)]"
   ]
  },
  {
   "cell_type": "code",
   "execution_count": null,
   "metadata": {},
   "outputs": [],
   "source": [
    "def table(cnx):\n",
    "    cursor = cnx.cursor()\n",
    "    cursor.execute(\"CREATE DATABASE IF NOT EXISTS distributed_database\")\n",
    "    cursor.execute(\"USE distributed_database\")\n",
    "    cursor.execute(\"\"\"\n",
    "        CREATE TABLE IF NOT EXISTS appointments (\n",
    "            `apptid` VARCHAR(50) NOT NULL,\n",
    "            `status` VARCHAR(50) NULL,\n",
    "            `TimeQueued` DATETIME(1) NULL,\n",
    "            `QueueDate` DATETIME(1) NULL,\n",
    "            `StartTime` DATETIME(1) NULL,\n",
    "            `EndTime` DATETIME(1) NULL,\n",
    "            `type` VARCHAR(45) NULL,\n",
    "            `Virtual` BOOL NULL,\n",
    "            `hospitalname` VARCHAR(255) NULL,\n",
    "            `IsHospital` BOOL NULL,\n",
    "            `City` VARCHAR(255) NULL,\n",
    "            `Province` VARCHAR(255) NULL,\n",
    "            `RegionName` VARCHAR(255) NULL,\n",
    "            `mainspecialty` VARCHAR(255) NULL,\n",
    "            `doctorage` INT NULL,\n",
    "            `pxage` INT NULL,\n",
    "            `pxgender` VARCHAR(50) NULL,\n",
    "            PRIMARY KEY (`apptid`)\n",
    "        )\n",
    "    \"\"\")\n",
    "    cnx.commit()\n"
   ]
  },
  {
   "cell_type": "code",
   "execution_count": null,
   "metadata": {},
   "outputs": [],
   "source": [
    "cnx = mysql.connector.connect(\n",
    "    host='ccscloud.dlsu.edu.ph',\n",
    "    port=20141,\n",
    "    user='root',\n",
    ")\n",
    "table(cnx)\n",
    "cnx.close()"
   ]
  },
  {
   "cell_type": "code",
   "execution_count": null,
   "metadata": {},
   "outputs": [],
   "source": [
    "engine = create_engine('mysql+pymysql://root@ccscloud.dlsu.edu.ph:20141/distributed_database')\n",
    "combinedDf.to_sql('appointments', con=engine, if_exists='replace', index=False)\n",
    "engine.dispose()\n"
   ]
  },
  {
   "cell_type": "code",
   "execution_count": null,
   "metadata": {},
   "outputs": [],
   "source": [
    "cnx = mysql.connector.connect(\n",
    "    host='ccscloud.dlsu.edu.ph',\n",
    "    port=20142,\n",
    "    user='root',\n",
    ")\n",
    "table(cnx)\n",
    "cnx.close()"
   ]
  },
  {
   "cell_type": "code",
   "execution_count": null,
   "metadata": {},
   "outputs": [],
   "source": [
    "engine = create_engine('mysql+pymysql://root@ccscloud.dlsu.edu.ph:20142/distributed_database')\n",
    "luzonDf.to_sql('appointments', con=engine, if_exists='replace', index=False)\n",
    "engine.dispose()\n"
   ]
  },
  {
   "cell_type": "code",
   "execution_count": null,
   "metadata": {},
   "outputs": [],
   "source": [
    "cnx = mysql.connector.connect(\n",
    "    host='ccscloud.dlsu.edu.ph',\n",
    "    port=20143,\n",
    "    user='root',\n",
    ")\n",
    "table(cnx)\n",
    "cnx.close()"
   ]
  },
  {
   "cell_type": "code",
   "execution_count": null,
   "metadata": {},
   "outputs": [],
   "source": [
    "engine = create_engine('mysql+pymysql://root@ccscloud.dlsu.edu.ph:20143/distributed_database')\n",
    "visMinDf.to_sql('appointments', con=engine, if_exists='replace', index=False)\n",
    "engine.dispose()"
   ]
  }
 ],
 "metadata": {
  "kernelspec": {
   "display_name": "base",
   "language": "python",
   "name": "python3"
  },
  "language_info": {
   "codemirror_mode": {
    "name": "ipython",
    "version": 3
   },
   "file_extension": ".py",
   "mimetype": "text/x-python",
   "name": "python",
   "nbconvert_exporter": "python",
   "pygments_lexer": "ipython3",
   "version": "3.9.13"
  }
 },
 "nbformat": 4,
 "nbformat_minor": 2
}
